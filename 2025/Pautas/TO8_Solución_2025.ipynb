{
 "cells": [
  {
   "cell_type": "markdown",
   "id": "c7bc5389",
   "metadata": {},
   "source": [
    "### Apuntes y Ejercicios Clase 22 IIQ2023\n",
    "\n",
    "Operaciones Unitarias 2\n",
    "\n",
    "Autor: Prof. Felipe Huerta\n",
    "\n",
    "Separaciones por membranas 2, v2\n",
    "\n",
    "v1: 27/05/2023\n",
    "v2: 02/06/2025"
   ]
  },
  {
   "cell_type": "code",
   "execution_count": 2,
   "id": "63b68ec2",
   "metadata": {},
   "outputs": [],
   "source": [
    "# Calculos manuales\n",
    "import handcalcs.render\n",
    "from handcalcs import handcalc\n",
    "\n",
    "# Unidades consistentes\n",
    "import forallpeople as si\n",
    "\n",
    "# Computación científica\n",
    "import numpy as np\n",
    "import matplotlib.pyplot as plt\n",
    "\n",
    "# Integración\n",
    "from scipy import integrate\n",
    "\n",
    "from scipy.optimize import fsolve\n",
    "\n",
    "\n",
    "# Funciones matemáticas para mejorar presentación\n",
    "from numpy import sqrt, pi, log\n",
    "\n",
    "# Ajustes polinomiales\n",
    "from numpy.polynomial import Polynomial\n",
    "\n",
    "# Cálculos manuales\n",
    "si.environment('thermal', top_level=True)"
   ]
  },
  {
   "cell_type": "markdown",
   "id": "a85ac67c",
   "metadata": {},
   "source": [
    "### Solución numérica paso a paso para un separador de gases con membranas operando a contracorrientes"
   ]
  },
  {
   "cell_type": "markdown",
   "id": "05da4581",
   "metadata": {},
   "source": [
    "Ilustraremos la metodología numérica para el mismo ejercicio estudiado en la Clase 21. Este ejercicio corresponde a la separación de la mezcla gaseosa hidrógeno-metano utilizando membranas.\n",
    "\n",
    "* Se asumirá la entrada como una mezcla binaria con fracción molar de hidrógeno $x_A = 0.05$ y fracción molar de metano $x_B = 1-x_A = 0.95$.\n",
    "\n",
    "\n",
    "#### Nomenclatura:\n",
    "\n",
    "$y'$ es a fracción molar del gas de mayor permeabilidad que sale de la membrana hacia el lado del permeado.\n",
    "\n",
    "y es la fracción molar del soluto en el seno del permeado (lumen de la fibra).\n",
    "\n",
    "x es la fracción molar del soluto en el seno del retenido (región anular)."
   ]
  },
  {
   "cell_type": "markdown",
   "id": "2c822632",
   "metadata": {},
   "source": [
    "#### Paso 1: Comenzar a construir la solución desde el lado del residuo con un valor especificado $x_{out}$ del separador a contracorrientes:"
   ]
  },
  {
   "cell_type": "markdown",
   "id": "cc81cc0e",
   "metadata": {},
   "source": [
    "# P1 "
   ]
  },
  {
   "cell_type": "markdown",
   "id": "9eb32cca",
   "metadata": {},
   "source": [
    "P1) Resulta más conveniente utilizar la membrana Hyflon debido a que esta cuenta con una mayor permeabilidad, lo que permitirá recuperar una mayor cantidad de hidrógeno, teniendo el trade-off de una menor pureza."
   ]
  },
  {
   "cell_type": "code",
   "execution_count": 2,
   "id": "b11fed40",
   "metadata": {},
   "outputs": [
    {
     "name": "stdout",
     "output_type": "stream",
     "text": [
      "1666666.6666666667\n",
      "77.59999999999998 3.37391304347826\n"
     ]
    }
   ],
   "source": [
    "# Fracción molar de hidrógeno en el residuo\n",
    "x_out = 0.01\n",
    "\n",
    "# Valor arbitrario del residuo\n",
    "L_out = 100000*(1000)*(1/60) # L/min\n",
    "V_out = 0 # L/min\n",
    "\n",
    "# Coeficiente de permeabilidad del gas más permeable (H2) en la membrana Hyflon\n",
    "q_A1 = 19.4/1000 # L m /min*m^2*atm\n",
    "\n",
    "# Permeabilidad del gas más permeable (H2) en la membrana Hyflon\n",
    "z = 250/(10**6) #Espesor de la membrana, en metros\n",
    "Q_A1 = q_A1/z # L/min*m^2*atm\n",
    "# Selectividad de la membrana Hyflon\n",
    "alpha_1 = 23\n",
    "\n",
    "# Permeabilidad del gas menos permeable (CH4) en la membrana Hyflon\n",
    "Q_B1 = Q_A1/alpha_1 # L/min*m^2*atm\n",
    "print(L_out)\n",
    "print(Q_A1,Q_B1)\n",
    "# Razón de presiones\n",
    "P_1 = 3.5*10**5/101325 # atm\n",
    "P_2 = 0.35*10**5/101325 # atm\n",
    "R = P_2/P_1"
   ]
  },
  {
   "cell_type": "markdown",
   "id": "2cc3166f",
   "metadata": {},
   "source": [
    "Definimos una función auxiliar para calcular $y'$ a partir de $x$, $alpha$ y $R$"
   ]
  },
  {
   "cell_type": "code",
   "execution_count": 47,
   "id": "f2d5a0c1",
   "metadata": {},
   "outputs": [],
   "source": [
    "def yp_mb_cc(x, alpha, R):\n",
    "    '''\n",
    "    Calcula y' para una separación por membranas a contracorrientes para un\n",
    "    valor específico ed x, alpha y R\n",
    "    \n",
    "    Inputs:\n",
    "        x(float): fracción molar de soluto en el retenido\n",
    "        alpha(float): selectividad de la membrana al soluto\n",
    "        permeable\n",
    "        R: razón de presiones entre el permeado y el retenido,\n",
    "        0 < R = P_2/P_1 < 1\n",
    "    '''\n",
    "    # Cálculo del valor inicial de y' utilizando ecuación cuadrática\n",
    "    a = alpha - 1\n",
    "    b = 1 - alpha - 1/R - x*(alpha-1)/R\n",
    "    c = alpha * x / R\n",
    "\n",
    "    # Cálculo de las raíces de la ecuación cuadrática para membranas\n",
    "    yp_plus = (-b + np.sqrt(b**2-4*a*c))/(2*a)\n",
    "    yp_minus = (-b - np.sqrt(b**2-4*a*c))/(2*a)\n",
    "\n",
    "    # Selección de la raiz\n",
    "    yp = yp_plus if yp_plus >= 0 and yp_plus <= 1 else yp_minus\n",
    "    return yp"
   ]
  },
  {
   "cell_type": "code",
   "execution_count": 48,
   "id": "0b22aa16",
   "metadata": {},
   "outputs": [
    {
     "data": {
      "text/plain": [
       "0.07044358383244093"
      ]
     },
     "execution_count": 48,
     "metadata": {},
     "output_type": "execute_result"
    }
   ],
   "source": [
    "yp_mb_cc(x_out, alpha_1, R)"
   ]
  },
  {
   "cell_type": "code",
   "execution_count": 49,
   "id": "39929ee8",
   "metadata": {},
   "outputs": [],
   "source": [
    "# Calculamos y', la fracción molar del compuesto más permeable\n",
    "# en la interface con el permeado en equilibrio con el retenido\n",
    "yp = yp_mb_cc(x_out, alpha_1, R)\n",
    "\n",
    "# En la salida del residuo se cumple que la fracción\n",
    "# molar del soluto más permeable en el seno del \n",
    "# permeado, y, es igual a y'.\n",
    "\n",
    "y = yp\n",
    "x = x_out\n",
    "\n",
    "# Cálculo de fluxes locales de A y B\n",
    "J_A = Q_A1 * (P_1*x - P_2*y)\n",
    "J_B = Q_B1 * (P_1*(1-x) - P_2 * (1-y))"
   ]
  },
  {
   "cell_type": "markdown",
   "id": "df64a041",
   "metadata": {},
   "source": [
    "3. A partir de los fluxes, calculamos la variación de los flujos molares de retenido $L$ y permeado $V$, $\\Delta L$ y $\\Delta V$. Se cumple que \n",
    "\n",
    "$$ \\Delta L = \\Delta V = (J_A+J_B) \\Delta A $$"
   ]
  },
  {
   "cell_type": "markdown",
   "id": "a72b1a24",
   "metadata": {},
   "source": [
    "Y tienen los mismos signos porque se reconstruye $L$ desde la salida del residuo hasta la alimentación. En esta implementación:\n",
    "\n",
    "- L[0] es el flujo de retenido a la salida del separador por membranas (derecha).\n",
    "- x[0] es la fracción molar del compuesto A en el retenido a la salida del separador.\n",
    "- V[0] es el flujo de permeado al comienzo de la fibra (derecha). Típicamente, esto es igual a 0.\n",
    "- y[0] = y' es la fracción molar del compuesto $A$ en el permeado al comienzo de la fibra.\n",
    "\n",
    "Ingresamos los parámetros necesarios para discretizar la membrana de área $A / m^2$ en n compartimientos:"
   ]
  },
  {
   "cell_type": "code",
   "execution_count": 50,
   "id": "911425dd",
   "metadata": {},
   "outputs": [],
   "source": [
    "A = 5000 # Conocemos el área superficial de la membrana\n",
    "n = 2000\n",
    "dA = A / n # Número de diferenciales de área"
   ]
  },
  {
   "cell_type": "markdown",
   "id": "e0cb5b1b",
   "metadata": {},
   "source": [
    "Ahora construimos las listas para almacenar las soluciones de $x, y, L$ y $V$."
   ]
  },
  {
   "cell_type": "code",
   "execution_count": 51,
   "id": "212aabb8",
   "metadata": {},
   "outputs": [],
   "source": [
    "def membrane_countercurrent(L_out, x_out, yp, n, Q_A, Q_B, P_1, P_2):\n",
    "    # Creamos vectores vacíos de una dimensión igual al número\n",
    "    # de divisiones \"numéricas\" del separador por membranas, n.\n",
    "\n",
    "    x = np.zeros(n)\n",
    "    y = np.zeros(n)\n",
    "    L = np.zeros(n)\n",
    "    V = np.zeros(n)\n",
    "    yp_av_list = np.zeros(n) # Fracción molar en equilibrio promedio\n",
    "\n",
    "    L[0] = L_out  # Flujo molar total de la corriente de residuo que sale del separador. \n",
    "    x[0] = x_out  # Fracción molar del gas más permeable que sale con el residuo\n",
    "    y[0] = yp     # Se cumple a la salida del residuo\n",
    "    V[0] = 0      # No hay flujo de permeado \"cruzándose\" con  el residuo que sale porque la fibra está cerrada\n",
    "\n",
    "    # Primer valor de y'\n",
    "    yp_av_list[0] = yp\n",
    "    \n",
    "    # Primer flujo másico\n",
    "    J_A = Q_A * (P_1*x_out - P_2 * yp)\n",
    "    J_B = Q_B * (P_1*(1-x_out) - P_2 * (1-yp))\n",
    "    \n",
    "    for i in range(n-1):\n",
    "        # Volumen transferido hacia el permeado\n",
    "        dV = (J_A+J_B) * dA\n",
    "\n",
    "        # Variación de flujo de retenido\n",
    "        dL = dV\n",
    "\n",
    "        # Actualizar flujos volumétricos de derecha a izquierda\n",
    "        L[i+1] = L[i] + dV\n",
    "        V[i+1] = V[i] + dV\n",
    "\n",
    "        # Cálculo de la nueva fracción molar de x\n",
    "        x[i+1] = dV/L[i+1] * (yp-x[i]) + x[i]\n",
    "\n",
    "        # Cálculo de y'\n",
    "        # Cálculo de fluxes locales de A y B\n",
    "        J_A = Q_A * (P_1*x[i] - P_2*y[i])\n",
    "        J_B = Q_B * (P_1*(1-x[i]) - P_2 * (1-y[i]))\n",
    "\n",
    "        yp = (J_A)/(J_A+J_B)\n",
    "\n",
    "        # Cálculo de la nueva fracción molar de y\n",
    "        y[i+1] = V[i]/V[i+1] * y[i] + dV/V[i+1] * yp\n",
    "\n",
    "        # Recalculamos y[i+1] con y' promedio para mejorar\n",
    "        # la precisión del método numérico\n",
    "        # Cálculo de yp a la salida de la etapa\n",
    "        J_A_out = Q_A * (P_1*x[i] - P_2*y[i+1])\n",
    "        J_B_out = Q_B * (P_1*(1-x[i+1]) - P_2 * (1-y[i+1]))\n",
    "        yp_out = J_A_out/(J_A_out + J_B_out)\n",
    "        yp_av = (yp+yp_out)/2\n",
    "        yp_av_list[i+1]=(yp_av)\n",
    "\n",
    "        # Cálculo de la nueva fracción molar de y\n",
    "        y[i+1] = V[i]/V[i+1] * y[i] + dV/V[i+1] * yp_av\n",
    "    \n",
    "    return L, x, V, y, yp_av_list"
   ]
  },
  {
   "cell_type": "code",
   "execution_count": 52,
   "id": "f11fa07b",
   "metadata": {},
   "outputs": [],
   "source": [
    "L, x, V, y, yp_av_list = membrane_countercurrent(L_out, x_out, yp, n, Q_A1, Q_B1, P_1, P_2)"
   ]
  },
  {
   "cell_type": "markdown",
   "id": "0a1aa8ce",
   "metadata": {},
   "source": [
    "Stage cut o etapa de corte. Esto representa la razón entre el flujo molar permeado sobre el flujo molar alimentado."
   ]
  },
  {
   "cell_type": "code",
   "execution_count": 53,
   "id": "3c3991d2",
   "metadata": {},
   "outputs": [
    {
     "name": "stdout",
     "output_type": "stream",
     "text": [
      "La etapa de corte es = 0.033\n",
      "[0.00000000e+00 2.81166447e+01 5.62332893e+01 ... 5.68548186e+04\n",
      " 5.68836925e+04 5.69125668e+04] [1666666.66666667 1666694.78331132 1666722.89995597 ... 1723521.48529651\n",
      " 1723550.35916548 1723579.23349414]\n",
      "166666.66666666666\n"
     ]
    }
   ],
   "source": [
    "# Etapa de corte\n",
    "stage_cut_1 = V[-1]/L[-1]\n",
    "print(\"La etapa de corte es = %.3f\" % stage_cut_1)\n",
    "\n",
    "print(V,L)\n",
    "print(10000*(1000)*(1/60))"
   ]
  },
  {
   "cell_type": "markdown",
   "id": "34dd02af",
   "metadata": {},
   "source": [
    "Separación de aire. Sabemos que en la alimentación debiese ser\n",
    "$x_F$ = 0.05"
   ]
  },
  {
   "cell_type": "code",
   "execution_count": 11,
   "id": "84889407",
   "metadata": {},
   "outputs": [
    {
     "data": {
      "text/plain": [
       "0.05005492064451656"
      ]
     },
     "execution_count": 11,
     "metadata": {},
     "output_type": "execute_result"
    }
   ],
   "source": [
    "x[-1]"
   ]
  },
  {
   "cell_type": "code",
   "execution_count": 12,
   "id": "86b0dea8",
   "metadata": {
    "scrolled": false
   },
   "outputs": [
    {
     "data": {
      "image/png": "[encoded data removed]",
      "text/plain": [
       "<Figure size 432x432 with 1 Axes>"
      ]
     },
     "metadata": {
      "needs_background": "light"
     },
     "output_type": "display_data"
    }
   ],
   "source": [
    "# Este código traza los resultados del problema de separación de membranas.\n",
    "\n",
    "# Crea una figura con un ancho y alto de 6 pulgadas.\n",
    "plt.figure(figsize = [6,6])\n",
    "\n",
    "# Grafica los valores de x, etiquetados como $x$, en azul marino.\n",
    "plt.plot(np.flip(x), label='$x$', color = 'navy')\n",
    "\n",
    "# Grafica los valores de y, etiquetados como $y$, en verde azulado con una línea punteada.\n",
    "plt.plot(np.flip(y), label = '$y$', color = 'teal', ls = '--')\n",
    "\n",
    "# Grafica los valores de y', etiquetados como $y\\'$, en morado con una línea punteada.\n",
    "plt.plot(np.flip(yp_av_list), label = '$y\\'$', color = 'purple', ls = '-.')\n",
    "\n",
    "# Agrega etiquetas a los ejes x e y, con un tamaño de fuente de 12.\n",
    "plt.xlabel('Largo o n_etapa', size = 12)\n",
    "plt.ylabel('Fracción molar', size = 12)\n",
    "\n",
    "# Establece el tamaño de fuente de las etiquetas de marcas a 12.\n",
    "plt.tick_params(labelsize = 12)\n",
    "\n",
    "# Agrega una cuadrícula a la trama.\n",
    "plt.grid()\n",
    "\n",
    "# Agrega una leyenda a la trama, con un tamaño de fuente de 12.\n",
    "plt.legend(fontsize = 12)\n",
    "\n",
    "# Guarda la trama como un archivo llamado `c22_solution.svg`.\n",
    "# plt.savefig(\"c22_solution.svg\", bbox_inches = 'tight')\n",
    "ax = plt.gca()\n",
    "ax.set_yticks(np.arange(0, 0.5, 0.05))\n",
    "\n",
    "# Muestra la trama.\n",
    "plt.show()\n"
   ]
  },
  {
   "cell_type": "code",
   "execution_count": 12,
   "id": "c359dbab",
   "metadata": {},
   "outputs": [
    {
     "name": "stdout",
     "output_type": "stream",
     "text": [
      "[0.07044358 0.07044381 0.07047397 ... 0.21790104 0.21804035 0.21817975]\n"
     ]
    }
   ],
   "source": [
    "print(y)"
   ]
  },
  {
   "cell_type": "markdown",
   "id": "8046b340",
   "metadata": {},
   "source": [
    "De esta forma, se recomienda utilizar la membrana Hyfon para recuperar el hidrógeno debido a que posee una mejor permeabilidad. Lo que requeriría una membrana de 3000 m2 y genera una corriente de permeado de 21.81% de hidrógeno y con una etapa de corte del 19.3%. En la siguiente etapa será necesario purificar esta corriente."
   ]
  },
  {
   "cell_type": "markdown",
   "id": "7845ffc0",
   "metadata": {},
   "source": [
    "# P2)"
   ]
  },
  {
   "cell_type": "code",
   "execution_count": 71,
   "id": "040aaff1",
   "metadata": {},
   "outputs": [],
   "source": [
    "# Fracción molar de hidrógeno en el residuo\n",
    "x_out_2 = 0.0771\n",
    "\n",
    "# Valor arbitrario del residuo\n",
    "L_out_2 = 30739 # L/min\n",
    "V_out = 0 # L/min\n",
    "\n",
    "# Coeficiente de permeabilidad del gas más permeable (H2) en la membrana Hyflon\n",
    "q_A2 = 9.3/1000 # L m /min*m^2*atm\n",
    "\n",
    "# Permeabilidad del gas más permeable (H2) en la membrana Hyflon\n",
    "z = 250/(10**6) #Espesor de la membrana, en metros\n",
    "Q_A2 = q_A2/z # L/min*m^2*atm\n",
    "\n",
    "# Selectividad de la membrana Hyflon\n",
    "alpha_2 = 48\n",
    "\n",
    "# Permeabilidad del gas menos permeable (CH4) en la membrana Hyflon\n",
    "Q_B2 = Q_A2/alpha_2 # L/min*m^2*atm\n",
    "\n",
    "# Razón de presiones\n",
    "# Prueba con R muy bajaP_1 = 3.72\n",
    "# Prueba con R muy alta, donde se exhibe la no linealidadP_1 = 30\n",
    "\n",
    "P_1 = 3.5*10**5/101325 # atm\n",
    "P_2 = 0.35*10**5/101325 # atm\n",
    "R = P_2/P_1"
   ]
  },
  {
   "cell_type": "code",
   "execution_count": 72,
   "id": "c4af8aab",
   "metadata": {},
   "outputs": [
    {
     "name": "stdout",
     "output_type": "stream",
     "text": [
      "0.5486814577850571\n"
     ]
    }
   ],
   "source": [
    "# Calculamos y', la fracción molar del compuesto más permeable\n",
    "# en la interface con el permeado en equilibrio con el retenido\n",
    "yp = yp_mb_cc(x_out_2, alpha_2, R)\n",
    "print(yp)\n",
    "# En la salida del residuo se cumple que la fracción\n",
    "# molar del soluto más permeable en el seno del \n",
    "# permeado, y, es igual a y'.\n",
    "\n",
    "y = yp\n",
    "x = x_out_2\n",
    "\n",
    "# Cálculo de fluxes locales de A y B\n",
    "J_A2 = Q_A2 * (P_1*x - P_2*y)\n",
    "J_B2 = Q_B2 * (P_1*(1-x) - P_2 * (1-y))"
   ]
  },
  {
   "cell_type": "code",
   "execution_count": 73,
   "id": "0caf68be",
   "metadata": {},
   "outputs": [],
   "source": [
    "A = 731 # Conocemos el área superficial de la membrana\n",
    "n = 4000\n",
    "dA = A / n # Número de diferenciales de área"
   ]
  },
  {
   "cell_type": "code",
   "execution_count": 74,
   "id": "bccba72d",
   "metadata": {},
   "outputs": [],
   "source": [
    "L, x, V, y, yp_av_list = membrane_countercurrent(L_out_2, x_out_2, yp, n, Q_A2, Q_B2, P_1, P_2)"
   ]
  },
  {
   "cell_type": "code",
   "execution_count": 75,
   "id": "29a340a5",
   "metadata": {},
   "outputs": [
    {
     "name": "stdout",
     "output_type": "stream",
     "text": [
      "La etapa de corte es = 0.199\n"
     ]
    }
   ],
   "source": [
    "# Etapa de corte\n",
    "stage_cut_1 = V[-1]/L[-1]\n",
    "print(\"La etapa de corte es = %.3f\" % stage_cut_1)"
   ]
  },
  {
   "cell_type": "code",
   "execution_count": 76,
   "id": "ae4e170a",
   "metadata": {},
   "outputs": [
    {
     "data": {
      "image/png": "[encoded data removed]",
      "text/plain": [
       "<Figure size 432x432 with 1 Axes>"
      ]
     },
     "metadata": {
      "needs_background": "light"
     },
     "output_type": "display_data"
    }
   ],
   "source": [
    "# Este código traza los resultados del problema de separación de membranas.\n",
    "\n",
    "# Crea una figura con un ancho y alto de 6 pulgadas.\n",
    "plt.figure(figsize = [6,6])\n",
    "\n",
    "# Grafica los valores de x, etiquetados como $x$, en azul marino.\n",
    "plt.plot(np.flip(x), label='$x$', color = 'navy')\n",
    "\n",
    "# Grafica los valores de y, etiquetados como $y$, en verde azulado con una línea punteada.\n",
    "plt.plot(np.flip(y), label = '$y$', color = 'teal', ls = '--')\n",
    "\n",
    "# Grafica los valores de y', etiquetados como $y\\'$, en morado con una línea punteada.\n",
    "plt.plot(np.flip(yp_av_list), label = '$y\\'$', color = 'purple', ls = '-.')\n",
    "\n",
    "# Agrega etiquetas a los ejes x e y, con un tamaño de fuente de 12.\n",
    "plt.xlabel('Largo o n_etapa', size = 12)\n",
    "plt.ylabel('Fracción molar', size = 12)\n",
    "\n",
    "# Establece el tamaño de fuente de las etiquetas de marcas a 12.\n",
    "plt.tick_params(labelsize = 12)\n",
    "\n",
    "# Agrega una cuadrícula a la trama.\n",
    "plt.grid()\n",
    "\n",
    "# Agrega una leyenda a la trama, con un tamaño de fuente de 12.\n",
    "plt.legend(fontsize = 12)\n",
    "\n",
    "# Guarda la trama como un archivo llamado `c22_solution.svg`.\n",
    "# plt.savefig(\"c22_solution.svg\", bbox_inches = 'tight')\n",
    "ax = plt.gca()\n",
    "ax.set_yticks(np.arange(0, 1.1, 0.05))\n",
    "\n",
    "# Muestra la trama.\n",
    "plt.show()\n"
   ]
  },
  {
   "cell_type": "code",
   "execution_count": 77,
   "id": "0580d285",
   "metadata": {},
   "outputs": [
    {
     "name": "stdout",
     "output_type": "stream",
     "text": [
      "[0.0771     0.0771146  0.07712919 ... 0.21784796 0.2179125  0.21797706] [0.54868146 0.54868352 0.54874252 ... 0.78554216 0.78559579 0.78564942]\n",
      "[30739.         30739.95149642 30740.90299284 ... 38361.07428781\n",
      " 38364.71610673 38368.35928608] [0.00000000e+00 9.51496422e-01 1.90299284e+00 ... 7.62207429e+03\n",
      " 7.62571611e+03 7.62935929e+03]\n"
     ]
    }
   ],
   "source": [
    "print(x, y)\n",
    "print(L,V)\n"
   ]
  },
  {
   "cell_type": "markdown",
   "id": "b52b06b2",
   "metadata": {},
   "source": [
    "# P3)"
   ]
  },
  {
   "cell_type": "code",
   "execution_count": 78,
   "id": "adfcd875",
   "metadata": {},
   "outputs": [
    {
     "data": {
      "image/png": "[encoded data removed]",
      "text/plain": [
       "<Figure size 432x432 with 1 Axes>"
      ]
     },
     "metadata": {
      "needs_background": "light"
     },
     "output_type": "display_data"
    }
   ],
   "source": [
    "import matplotlib.pyplot as plt\n",
    "import numpy as np\n",
    "\n",
    "# Crear la figura\n",
    "plt.figure(figsize=[6, 6])\n",
    "\n",
    "for i in range(0, 2):\n",
    "    R = 0.1 + i / 10\n",
    "    P_1 = 3.5 * 10**5 / 101325  # atm\n",
    "    P_2 = P_1 * R\n",
    "    # Calculamos y', la fracción molar del compuesto más permeable\n",
    "    yp = yp_mb_cc(x_out_2, alpha_2, R)\n",
    "    y = yp\n",
    "    x = x_out_2\n",
    "    # Cálculo de fluxes locales de A y B\n",
    "    J_A2 = Q_A2 * (P_1 * x - P_2 * y)\n",
    "    J_B2 = Q_B2 * (P_1 * (1 - x) - P_2 * (1 - y))\n",
    "    L, x, V, y, yp_av_list = membrane_countercurrent(L_out_2, x_out_2, yp, n, Q_A2, Q_B2, P_1, P_2)\n",
    "    \n",
    "    # Si es la primera iteración, usa línea discontinua, si es la segunda, usa línea sólida\n",
    "    if i == 0:\n",
    "        linestyle = '--'  # Línea discontinua para la primera iteración\n",
    "    else:\n",
    "        linestyle = '-'   # Línea sólida para la segunda iteración\n",
    "    \n",
    "    # Graficar los valores de x, y y yp_av_list en el mismo gráfico\n",
    "    plt.plot(np.flip(x), label=f'$x$ Iteración {i+1}', color='navy', ls=linestyle)\n",
    "    plt.plot(np.flip(y), label=f'$y$ Iteración {i+1}', color='teal', ls=linestyle)\n",
    "    plt.plot(np.flip(yp_av_list), label=f\"$y'$ Iteración {i+1}\", color='purple', ls=linestyle)\n",
    "    # Imprimir el valor de R en el gráfico\n",
    "    plt.text(len(x)//2, max(x) + 0.05, f'R = {R:.2f} Iteración {i+1}', fontsize=12, color='black')\n",
    "\n",
    "# Configuración del gráfico\n",
    "plt.xlabel('Largo o n_etapa', size=12)\n",
    "plt.ylabel('Fracción molar', size=12)\n",
    "plt.tick_params(labelsize=12)\n",
    "plt.grid()\n",
    "\n",
    "# Agregar leyenda\n",
    "plt.legend(fontsize=12)\n",
    "\n",
    "# Mostrar la figura con todos los gráficos superpuestos\n",
    "plt.show()\n",
    "\n"
   ]
  },
  {
   "cell_type": "code",
   "execution_count": null,
   "id": "48f547ff",
   "metadata": {},
   "outputs": [],
   "source": []
  }
 ],
 "metadata": {
  "@webio": {
   "lastCommId": null,
   "lastKernelId": null
  },
  "kernelspec": {
   "display_name": "Python 3 (ipykernel)",
   "language": "python",
   "name": "python3"
  },
  "language_info": {
   "codemirror_mode": {
    "name": "ipython",
    "version": 3
   },
   "file_extension": ".py",
   "mimetype": "text/x-python",
   "name": "python",
   "nbconvert_exporter": "python",
   "pygments_lexer": "ipython3",
   "version": "3.9.12"
  }
 },
 "nbformat": 4,
 "nbformat_minor": 5
}
