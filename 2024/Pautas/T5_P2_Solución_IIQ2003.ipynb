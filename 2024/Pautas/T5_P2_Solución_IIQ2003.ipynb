{
 "cells": [
  {
   "cell_type": "markdown",
   "id": "edf09927",
   "metadata": {},
   "source": [
    "###  Tarea 5\n",
    "\n",
    "## Modelación de drenaje contaminante no estacionario\n",
    "\n",
    "#### MOOC: Transferencia de Calor y Masa Computacional\n",
    "\n",
    "Problema: Modelado del Drenaje de un Contaminante Orgánico en Aguas Subterráneas Tras un Derrame\n",
    "\n",
    "Imagine que usted trabaja en el Laboratorio Nacional de Investigación Ambiental en un proyecto que busca evaluar el impacto de contaminantes orgánicos en el suministro de aguas subterráneas. Usted es responsable de desarrollar un modelo que simule el drenaje de un contaminante orgánico después de un derrame accidentado.\n",
    "\n",
    "La Figura 1 ilustra un acuífero subterráneo representado por un rectangulo de $L_w$ m de altura y W x $S_w$ de base, donde se ha producido un derrame de un solvente orgánico volátil que se ha filtrado en el suelo.\n",
    "\n",
    "<div> <img src=\"drenaje.png\" width=\"600\"/> <figcaption>Figura 1: Modelo de acuífero afectado por derrame de solvente orgánico</figcaption> </div>\n",
    "\n",
    "A medida que el contaminante se mueve hacia el acuífero, la concentración del contaminante no debe exceder los niveles seguros de 2 mg/L, ya que niveles más altos pueden resultar en la contaminación del suministro de agua potable.\n",
    "\n",
    "La ecuación de conservación de masa para el contaminante dentro del acuífero se describe como:\n",
    "\n",
    "$$R*\\frac{\\partial C}{\\partial t}= D_h \\frac{\\partial^2 C}{\\partial x^2}-v \\frac{\\partial C}{\\partial x}-\\lambda C$$\n",
    "\n",
    "Donde:\n",
    "\n",
    "\n",
    "$C$ es la concentración del contaminante,\n",
    "$x$ es la coordenada espacial en la que se difunde el contaminante,\n",
    "$D_h$ es el coeficiente de difusión-dispersión hidrodinámico,\n",
    "$v$ es la velocidad de infiltración,\n",
    "$\\lambda$ es el coeficiente de degracación,\n",
    "$R$ es el factor de retardo para la absorción lineal\n",
    "\n",
    "Las condiciones de contorno se definen como:\n",
    "\n",
    "CB1:\n",
    "La concentración en x=0 a traves del tiempo varía según la siguiente expresión\n",
    "$$ C(x=0,t)= C_0 \\cdot \\exp (-\\beta t)$$\n",
    "\n",
    "CB2:\n",
    "El flux molar en x=L es igual a 0\n",
    "$$ \\frac{\\partial}{\\partial x} C(x=L,t)= 0$$\n",
    "\n",
    "\n",
    " \n",
    "Se le solicita evaluar si las condiciones actuales de contención y remediación son suficientes para prevenir que la concentración del contaminante en cualquier punto del acuífero exceda los niveles seguros establecidos. ¿Qué estrategias de mitigación podrían implementarse si se determinara que las concentraciones superan el límite permitido?"
   ]
  },
  {
   "cell_type": "markdown",
   "id": "739eeff7",
   "metadata": {},
   "source": [
    "#### Parte 1. Discretice la EDP utilizando diferencias finitas de segundo orden y el método FTCS"
   ]
  },
  {
   "cell_type": "markdown",
   "id": "068c836b",
   "metadata": {},
   "source": [
    "#### 1.1 Discretice los nodos interiores, utilizando:\n",
    "* Diferencias finitas hacia adelante de primer orden en el tiempo para la derivada temporal\n",
    "* Diferencias finitas centrales de segundo orden en el espacio para el término de difusión/dispersión y diferencias finitas hacia atrás de primer orden para el término convectivo."
   ]
  },
  {
   "cell_type": "markdown",
   "id": "5c46dcf2",
   "metadata": {},
   "source": [
    "#### 1.2 Encuentre los coeficientes de la matriz A en la ecuación de evolución"
   ]
  },
  {
   "cell_type": "markdown",
   "id": "32c735c5",
   "metadata": {},
   "source": [
    "#### 1.3) Discretice las condiciones de borde\n",
    "* Utilice diferencias finitas hacia adelante o atrás, según corresponda, de segundo orden.\n",
    "* Se le recomienda despejar las temperaturas del nodo inicial $T^{t+1}_0$ y el nodo final $T_N^{t}$ en función de los nodos adyacentes.\n",
    "* Esto le permitirá implementar el método de manera más sencilla.\n",
    "* En esta implementación, usted deberá dejar la primera y última fila de la matriz de coeficientes A vacía, así como también el primer y último elemento del vector $\\mathbf{b}$ vacío."
   ]
  },
  {
   "cell_type": "markdown",
   "id": "0b8677b5",
   "metadata": {},
   "source": [
    "### Parte 2) Implementación del método numérico"
   ]
  },
  {
   "cell_type": "markdown",
   "id": "13247219",
   "metadata": {},
   "source": [
    "#### 2.1 - Importar módulos"
   ]
  },
  {
   "cell_type": "code",
   "execution_count": 1,
   "id": "c830b3ce",
   "metadata": {},
   "outputs": [],
   "source": [
    "# Cálculos numéricos\n",
    "import numpy as np\n",
    "\n",
    "# Gráficos\n",
    "import matplotlib.pyplot as plt\n",
    "\n",
    "# Mapas de colores\n",
    "from matplotlib import cm"
   ]
  },
  {
   "cell_type": "markdown",
   "id": "ed81b4cf",
   "metadata": {},
   "source": [
    "# 2.2 Declaración de parámetros físicos"
   ]
  },
  {
   "cell_type": "code",
   "execution_count": 2,
   "id": "52833ee4",
   "metadata": {},
   "outputs": [],
   "source": [
    "#Parámetros\n",
    "R=1.5\n",
    "D_h=0.38\n",
    "v=0.33\n",
    "lamb=0.15\n",
    "beta=0.0768\n",
    "c_0=1\n",
    "X=25"
   ]
  },
  {
   "cell_type": "markdown",
   "id": "a8abc654",
   "metadata": {},
   "source": [
    "#### 2.3 Definición de los parámetros de grilla y computacionales\n",
    "\n",
    "Se le solicita resolver el problema considerando los siguientes parámetros:\n",
    "\n",
    "* 200 nodos en la dirección radial\n"
   ]
  },
  {
   "cell_type": "code",
   "execution_count": 3,
   "id": "9ac2b39e",
   "metadata": {},
   "outputs": [],
   "source": [
    "# Número de nodos\n",
    "n_x= 200\n",
    "\n",
    "# Crear un dominio discretizado\n",
    "x=np.linspace(0,X,n_x+1)\n",
    "\n",
    "# Espaciamiento o paso radial\n",
    "dx=X/(n_x) #m\n",
    "\n",
    "# Paso de tiempo\n",
    "dt= 0.01 #year\n",
    "\n",
    "# Construcción de matriz A y vector del lado derecho\n",
    "A=np.zeros([n_x+1, n_x+1])\n"
   ]
  },
  {
   "cell_type": "markdown",
   "id": "ee6d5433",
   "metadata": {},
   "source": [
    "#### Número de Fourier y Courant"
   ]
  },
  {
   "cell_type": "code",
   "execution_count": 4,
   "id": "18c59393",
   "metadata": {},
   "outputs": [
    {
     "name": "stdout",
     "output_type": "stream",
     "text": [
      "0.16213333333333332 0.026400000000000003\n"
     ]
    }
   ],
   "source": [
    "Fo=D_h*dt/(R*dx**2)\n",
    "Cour=v*dt/dx\n",
    "print(Fo,Cour)"
   ]
  },
  {
   "cell_type": "markdown",
   "id": "287c0544",
   "metadata": {},
   "source": [
    "Número de Fourier es menor a 0.5 y Courant es menor a 1, por lo que cumplen la condición de estabilidad"
   ]
  },
  {
   "cell_type": "markdown",
   "id": "0ac4e367",
   "metadata": {},
   "source": [
    "#### 2.4 Rellenar matriz A - nodos interiores"
   ]
  },
  {
   "cell_type": "code",
   "execution_count": 5,
   "id": "ca5391fd",
   "metadata": {},
   "outputs": [],
   "source": [
    "# Iteración en nodos interiores\n",
    "for i in range(1,n_x):\n",
    "    \n",
    "    # Coeficiente que acompaña a C_{i-1}^j\n",
    "    A[i,i-1]=(D_h/dx**2 + v/(dx))/R\n",
    "  \n",
    "    # Coeficiente que acompaña a C_{i}^j\n",
    "    A[i,i]=(-2*D_h/dx**2 -lamb - v/(dx))/R\n",
    "\n",
    "    # Coeficiente que acompaña a C_{i+1}^j\n",
    "    A[i,i+1]=(D_h/dx**2)/R\n"
   ]
  },
  {
   "cell_type": "code",
   "execution_count": 6,
   "id": "3c4a8984",
   "metadata": {},
   "outputs": [
    {
     "name": "stdout",
     "output_type": "stream",
     "text": [
      "17.973333333333333 -34.28666666666667 16.213333333333335\n"
     ]
    }
   ],
   "source": [
    "print(A[2,1],A[2,2],A[2,3])"
   ]
  },
  {
   "cell_type": "code",
   "execution_count": 7,
   "id": "8788f616",
   "metadata": {},
   "outputs": [],
   "source": [
    "# Vector del lado derecho\n",
    "b=np.ones(len(A))*0"
   ]
  },
  {
   "cell_type": "code",
   "execution_count": 8,
   "id": "ece4985a",
   "metadata": {},
   "outputs": [],
   "source": [
    "# Condiciones de borde\n",
    "\n",
    "#Concentración en x=0 varía con el tiempo\n",
    "A[0,0]=0\n",
    "b[0]=0\n",
    "\n",
    "A[-1,-1]=3\n",
    "A[-1,-2]=-4\n",
    "A[-1,-3]=1\n",
    "b[-1]=0\n"
   ]
  },
  {
   "cell_type": "markdown",
   "id": "69dbe3b4",
   "metadata": {},
   "source": [
    "#### 2.5 - Definir parámetros FTCS"
   ]
  },
  {
   "cell_type": "code",
   "execution_count": 9,
   "id": "f6b70446",
   "metadata": {
    "scrolled": false
   },
   "outputs": [],
   "source": [
    "# Tiempo inicial\n",
    "t_0=0\n",
    "\n",
    "# Tiempo final\n",
    "t_f = 30\n",
    "\n",
    "# Grabe los resultados después de una fracción que estime conveniente. Por ejemplo, t = 3 s:\n",
    "write_interval= 6"
   ]
  },
  {
   "cell_type": "code",
   "execution_count": 10,
   "id": "91458bb8",
   "metadata": {},
   "outputs": [
    {
     "data": {
      "image/png": "[encoded data removed]",
      "text/plain": [
       "<Figure size 288x288 with 1 Axes>"
      ]
     },
     "metadata": {
      "needs_background": "light"
     },
     "output_type": "display_data"
    }
   ],
   "source": [
    "fig, ax =plt.subplots(1,1, figsize=[4,4])\n",
    "ax.spy(A, markersize=3)\n",
    "plt.show()"
   ]
  },
  {
   "cell_type": "markdown",
   "id": "163428ff",
   "metadata": {},
   "source": [
    "#### 2.6 Implementar el algoritmo FTCS"
   ]
  },
  {
   "cell_type": "code",
   "execution_count": 11,
   "id": "e2f9a096",
   "metadata": {},
   "outputs": [],
   "source": [
    "## Algoritmo FTCS\n",
    "\n",
    "# Lista en que se acumulan los tiempos donde se graban los perfiles de concentración\n",
    "t_vec=[]\n",
    "\n",
    "# Lista en que se acumulan los perfiles de concentración para cada write_interval\n",
    "C_num=[]\n",
    "\n",
    "# Inicializar vector que contiene la concentración inicial \n",
    "C_inicial=np.ones(len(A))*0\n",
    "\n",
    "\n",
    "# Copie la temperatura T en otra variable, utilizando la función np.copy()\n",
    "C_old=np.copy(C_inicial)\n",
    "\n",
    "\n",
    "#Inicialización de tiempo inicial y final\n",
    "t=t_0\n",
    "t_max=t_f\n",
    "\n",
    "# Iteración de evolución\n",
    "while t<t_max:\n",
    "    \n",
    "    # Actualizar nodos interiores\n",
    "    C_new=C_old+(np.dot(A,C_old)+b)*dt\n",
    "        \n",
    "    # Actualizar tiempo\n",
    "    t+=dt\n",
    "        \n",
    "    # Actualizar condiciones de borde\n",
    "    C_new[0]=c_0*np.exp(-beta*t)\n",
    "    C_new[-1]=(4*C_new[-2]-C_new[-3])/3\n",
    "    \n",
    "        \n",
    "        \n",
    "    # Crear una copia de la nueva temperatura\n",
    "    C_old=np.copy(C_new)\n",
    "\n",
    "\n",
    "    # Definir un control de flujo para guardar el perfil de temperatura\n",
    "    # cada vez que se cumpla un intervalo de tiempo previamente definido\n",
    "    if (t%write_interval)<1.1*dt and t-dt>0:\n",
    "        # Guardamos el perfil de temperatura\n",
    "        C_num.append(C_new)\n",
    "        \n",
    "        # Guardamos el tiempo\n",
    "        t_vec.append(t)\n",
    "    \n"
   ]
  },
  {
   "cell_type": "markdown",
   "id": "de70593a",
   "metadata": {},
   "source": [
    "# Graficar"
   ]
  },
  {
   "cell_type": "code",
   "execution_count": 12,
   "id": "2854bd7a",
   "metadata": {},
   "outputs": [
    {
     "data": {
      "image/png": "[encoded data removed]",
      "text/plain": [
       "<Figure size 360x288 with 1 Axes>"
      ]
     },
     "metadata": {
      "needs_background": "light"
     },
     "output_type": "display_data"
    }
   ],
   "source": [
    "fig, ax=plt.subplots(1,1,figsize=[5,4])\n",
    "n_con=len(C_num)\n",
    "cividis=cm.get_cmap(\"cividis\",n_con)\n",
    "colour=[cividis(i/n_con) for i in range(n_con)]\n",
    "\n",
    "for i in range(len(C_num)):\n",
    "    plt.plot(x,C_num[i],color=colour[i],label=\"t=%.0f y\" % t_vec[i])\n",
    "\n",
    "plt.xlabel(\"$x$ /m \", size=14)\n",
    "plt.ylabel(\"$mg $ $/L $ \", size=14)\n",
    "plt.grid()\n",
    "plt.legend()\n",
    "# plt.xlim(0,1)\n",
    "plt.show()"
   ]
  },
  {
   "cell_type": "code",
   "execution_count": 13,
   "id": "9fd4693f",
   "metadata": {},
   "outputs": [
    {
     "name": "stdout",
     "output_type": "stream",
     "text": [
      "0.023419985647042965\n"
     ]
    }
   ],
   "source": [
    "suma=0\n",
    "cont=0\n",
    "for i in C_num[-1]:\n",
    "    suma=suma+i\n",
    "    cont=cont+1\n",
    "promedio=suma/cont\n",
    "print(promedio)"
   ]
  },
  {
   "cell_type": "markdown",
   "id": "e7c1f9a6",
   "metadata": {},
   "source": [
    "La concentración promedio es de 0.0234 mg/L."
   ]
  },
  {
   "cell_type": "markdown",
   "id": "f5dcfa4a",
   "metadata": {},
   "source": [
    "### Preguntas "
   ]
  },
  {
   "cell_type": "markdown",
   "id": "2b6ff3e4",
   "metadata": {},
   "source": [
    "#### P3) Calcule la concentración promedio en el dominio despues de 30 años"
   ]
  },
  {
   "cell_type": "code",
   "execution_count": 14,
   "id": "46437080",
   "metadata": {},
   "outputs": [
    {
     "name": "stdout",
     "output_type": "stream",
     "text": [
      "0.023419985647042965\n"
     ]
    }
   ],
   "source": [
    "# Sobre todo x\n",
    "suma=0\n",
    "len(C_num)\n",
    "for i in range(len(C_num[-1])):\n",
    "    suma=suma+C_num[-1][i]\n",
    "\n",
    "prom=suma/len(C_num[-1])\n",
    "print(prom)"
   ]
  },
  {
   "cell_type": "markdown",
   "id": "ec1816ef",
   "metadata": {},
   "source": [
    "La concentración promedio a los 30 años es de 0.02341 mg/L"
   ]
  },
  {
   "cell_type": "markdown",
   "id": "95d0a717",
   "metadata": {},
   "source": [
    "#### P5) Considere que $\\lambda$ es igual a 0."
   ]
  },
  {
   "cell_type": "code",
   "execution_count": 15,
   "id": "b502c2c6",
   "metadata": {
    "scrolled": true
   },
   "outputs": [],
   "source": [
    "lamb2=0\n",
    "# Iteración en nodos interiores\n",
    "for i in range(1,n_x):\n",
    "    \n",
    "    # Coeficiente que acompaña a C_{i-1}^j\n",
    "    A[i,i-1]=(D_h/dx**2 + v/(dx))/R\n",
    "  \n",
    "    # Coeficiente que acompaña a C_{i}^j\n",
    "    A[i,i]=(-2*D_h/dx**2 -lamb2 - v/(dx))/R\n",
    "\n",
    "    # Coeficiente que acompaña a C_{i+1}^j\n",
    "    A[i,i+1]=(D_h/dx**2)/R\n",
    "\n",
    "\n",
    "    \n",
    "# Vector del lado derecho\n",
    "b=np.ones(len(A))*0\n",
    "\n",
    "\n",
    "\n",
    "# Condiciones de borde\n",
    "\n",
    "#Concentración en x=0 varía con el tiempo\n",
    "A[0,0]=0\n",
    "b[0]=0\n",
    "\n",
    "A[-1,-1]=3\n",
    "A[-1,-2]=-4\n",
    "A[-1,-3]=1\n",
    "b[-1]=0\n",
    "\n",
    "\n",
    "\n",
    "# Tiempo inicial\n",
    "t_0=0\n",
    "\n",
    "# Tiempo final\n",
    "t_f = 20\n",
    "\n",
    "# Grabe los resultados después de una fracción que estime conveniente. Por ejemplo, t = 3 s:\n",
    "write_interval= 5"
   ]
  },
  {
   "cell_type": "code",
   "execution_count": 16,
   "id": "3aeeb609",
   "metadata": {},
   "outputs": [],
   "source": [
    "## Algoritmo FTCS\n",
    "\n",
    "# Lista en que se acumulan los tiempos donde se graban los perfiles de concentración\n",
    "t_vec=[]\n",
    "\n",
    "# Lista en que se acumulan los perfiles de concentración para cada write_interval\n",
    "C_num=[]\n",
    "\n",
    "# Inicializar vector que contiene la concentración inicial \n",
    "C_inicial=np.ones(len(A))*0\n",
    "\n",
    "\n",
    "# Copie la temperatura T en otra variable, utilizando la función np.copy()\n",
    "C_old=np.copy(C_inicial)\n",
    "\n",
    "\n",
    "#Inicialización de tiempo inicial y final\n",
    "t=t_0\n",
    "t_max=t_f\n",
    "\n",
    "# Iteración de evolución\n",
    "while t<t_max:\n",
    "    \n",
    "    # Actualizar nodos interiores\n",
    "    C_new=C_old+(np.dot(A,C_old)+b)*dt\n",
    "        \n",
    "    # Actualizar tiempo\n",
    "    t+=dt\n",
    "        \n",
    "    # Actualizar condiciones de borde\n",
    "    C_new[0]=c_0*np.exp(-beta*t)\n",
    "    C_new[-1]=(4*C_new[-2]-C_new[-3])/3\n",
    "    \n",
    "        \n",
    "        \n",
    "    # Crear una copia de la nueva temperatura\n",
    "    C_old=np.copy(C_new)\n",
    "\n",
    "\n",
    "    # Definir un control de flujo para guardar el perfil de temperatura\n",
    "    # cada vez que se cumpla un intervalo de tiempo previamente definido\n",
    "    if (t%write_interval)<1.1*dt and t-dt>0:\n",
    "        # Guardamos el perfil de temperatura\n",
    "        C_num.append(C_new)\n",
    "        \n",
    "        # Guardamos el tiempo\n",
    "        t_vec.append(t)\n",
    "    \n"
   ]
  },
  {
   "cell_type": "code",
   "execution_count": 17,
   "id": "c037a8ea",
   "metadata": {},
   "outputs": [
    {
     "data": {
      "image/png": "[encoded data removed]",
      "text/plain": [
       "<Figure size 360x288 with 1 Axes>"
      ]
     },
     "metadata": {
      "needs_background": "light"
     },
     "output_type": "display_data"
    }
   ],
   "source": [
    "fig, ax=plt.subplots(1,1,figsize=[5,4])\n",
    "n_con=len(C_num)\n",
    "cividis=cm.get_cmap(\"cividis\",n_con)\n",
    "colour=[cividis(i/n_con) for i in range(n_con)]\n",
    "\n",
    "for i in range(len(C_num)):\n",
    "    plt.plot(x,C_num[i],color=colour[i],label=\"t=%.0f y\" % t_vec[i])\n",
    "\n",
    "plt.xlabel(\"$x$ /m \", size=14)\n",
    "plt.ylabel(\"$mg $ $/L $ \", size=14)\n",
    "plt.grid()\n",
    "plt.legend()\n",
    "# plt.xlim(0,1)\n",
    "plt.show()"
   ]
  },
  {
   "cell_type": "code",
   "execution_count": 18,
   "id": "e499d6a8",
   "metadata": {},
   "outputs": [
    {
     "name": "stdout",
     "output_type": "stream",
     "text": [
      "27\n",
      "0.3695920227763281\n",
      "3.375\n"
     ]
    }
   ],
   "source": [
    "indice_maximo = np.argmax(C_num[-1])\n",
    "print(indice_maximo)\n",
    "\n",
    "print(C_num[-1][indice_maximo])\n",
    "\n",
    "print(dx*indice_maximo)"
   ]
  },
  {
   "cell_type": "markdown",
   "id": "991f3044",
   "metadata": {},
   "source": [
    "#### P6) Encuentre flux de contaminante organico a los 20 años en el acuifero (x=9)"
   ]
  },
  {
   "cell_type": "code",
   "execution_count": 19,
   "id": "cfdc61bd",
   "metadata": {},
   "outputs": [],
   "source": [
    "#Parámetros\n",
    "R=1.5\n",
    "D_h=0.38\n",
    "v=0.33\n",
    "lamb=0.15\n",
    "beta=0.0768\n",
    "c_0=1\n",
    "X=25\n",
    "\n",
    "# Número de nodos\n",
    "n_x= 200\n",
    "\n",
    "# Crear un dominio discretizado\n",
    "x=np.linspace(0,X,n_x+1)\n",
    "\n",
    "# Espaciamiento o paso radial\n",
    "dx=X/(n_x) #m\n",
    "\n",
    "# Paso de tiempo\n",
    "dt= 0.01 #year\n",
    "\n",
    "\n",
    "# Construcción de matriz A y vector del lado derecho\n",
    "A=np.zeros([n_x+1, n_x+1])\n",
    "\n",
    "# Iteración en nodos interiores\n",
    "for i in range(1,n_x):\n",
    "    \n",
    "    # Coeficiente que acompaña a C_{i-1}^j\n",
    "    A[i,i-1]=(D_h/dx**2 + v/(dx))/R\n",
    "  \n",
    "    # Coeficiente que acompaña a C_{i}^j\n",
    "    A[i,i]=(-2*D_h/dx**2 -lamb - v/(dx))/R\n",
    "\n",
    "    # Coeficiente que acompaña a C_{i+1}^j\n",
    "    A[i,i+1]=(D_h/dx**2)/R\n",
    "    \n",
    "# Vector del lado derecho\n",
    "b=np.ones(len(A))*0\n",
    "\n",
    "# Condiciones de borde\n",
    "\n",
    "#Concentración en x=0 varía con el tiempo\n",
    "A[0,0]=0\n",
    "b[0]=0\n",
    "\n",
    "A[-1,-1]=3\n",
    "A[-1,-2]=-4\n",
    "A[-1,-3]=1\n",
    "b[-1]=0\n"
   ]
  },
  {
   "cell_type": "code",
   "execution_count": 20,
   "id": "2f113646",
   "metadata": {},
   "outputs": [],
   "source": [
    "# Tiempo inicial\n",
    "t_0=0\n",
    "\n",
    "# Tiempo final\n",
    "t_f = 20\n",
    "\n",
    "# Grabe los resultados después de una fracción que estime conveniente. Por ejemplo, t = 3 s:\n",
    "write_interval= 5"
   ]
  },
  {
   "cell_type": "code",
   "execution_count": 21,
   "id": "a1cbee94",
   "metadata": {},
   "outputs": [],
   "source": [
    "## Algoritmo FTCS\n",
    "\n",
    "# Lista en que se acumulan los tiempos donde se graban los perfiles de concentración\n",
    "t_vec=[]\n",
    "\n",
    "# Lista en que se acumulan los perfiles de concentración para cada write_interval\n",
    "C_num=[]\n",
    "\n",
    "# Inicializar vector que contiene la concentración inicial \n",
    "C_inicial=np.ones(len(A))*0\n",
    "\n",
    "\n",
    "# Copie la temperatura T en otra variable, utilizando la función np.copy()\n",
    "C_old=np.copy(C_inicial)\n",
    "\n",
    "\n",
    "#Inicialización de tiempo inicial y final\n",
    "t=t_0\n",
    "t_max=t_f\n",
    "\n",
    "# Iteración de evolución\n",
    "while t<t_max:\n",
    "    \n",
    "    # Actualizar nodos interiores\n",
    "    C_new=C_old+(np.dot(A,C_old)+b)*dt\n",
    "        \n",
    "    # Actualizar tiempo\n",
    "    t+=dt\n",
    "        \n",
    "    # Actualizar condiciones de borde\n",
    "    C_new[0]=c_0*np.exp(-beta*t)\n",
    "    C_new[-1]=(4*C_new[-2]-C_new[-3])/3\n",
    "    \n",
    "        \n",
    "        \n",
    "    # Crear una copia de la nueva temperatura\n",
    "    C_old=np.copy(C_new)\n",
    "\n",
    "\n",
    "    # Definir un control de flujo para guardar el perfil de temperatura\n",
    "    # cada vez que se cumpla un intervalo de tiempo previamente definido\n",
    "    if (t%write_interval)<1.1*dt and t-dt>0:\n",
    "        # Guardamos el perfil de temperatura\n",
    "        C_num.append(C_new)\n",
    "        \n",
    "        # Guardamos el tiempo\n",
    "        t_vec.append(t)\n",
    "    \n"
   ]
  },
  {
   "cell_type": "markdown",
   "id": "66a21188",
   "metadata": {},
   "source": [
    "Para calcular el flux en t=20, discretizamos\n",
    "    "
   ]
  },
  {
   "cell_type": "code",
   "execution_count": 31,
   "id": "79c6ccb3",
   "metadata": {},
   "outputs": [],
   "source": [
    "flux_20=[]\n",
    "for i in range(len(C_num[-1])):\n",
    "    if i==0:\n",
    "        flux=-D_h/dx*(-3*C_num[-1][i]+4*C_num[-1][i+1]-C_num[-1][i+2])+v*C_num[-1][i]\n",
    "    elif i>0 and i<(len(C_num[-1])-1):\n",
    "        flux=(C_num[-1][i+1]-C_num[-1][i-1])/(2*dx)*(-D_h)+C_num[-1][i]*v\n",
    "    else:\n",
    "        flux=-D_h/dx*(-3*C_num[-1][-1]+4*C_num[-1][-2]-C_num[-1][i-3])+v*C_num[-1][-1]\n",
    "    flux_20.append(1000*flux)  \n",
    "\n"
   ]
  },
  {
   "cell_type": "code",
   "execution_count": 47,
   "id": "d841ed05",
   "metadata": {},
   "outputs": [
    {
     "data": {
      "image/png": "[encoded data removed]",
      "text/plain": [
       "<Figure size 432x288 with 1 Axes>"
      ]
     },
     "metadata": {
      "needs_background": "light"
     },
     "output_type": "display_data"
    }
   ],
   "source": [
    "\n",
    "n_con=len(C_num)\n",
    "plt.plot(x,flux_20,label=\"t=20\")\n",
    "plt.xlabel(\"$x$ /m \", size=14)\n",
    "plt.ylabel(\"$mg $ /$m^2$ $/año $ \", size=14)\n",
    "plt.grid()\n",
    "plt.legend()\n",
    "plt.axvline(x=9, color='red', linestyle='dotted')\n",
    "plt.xlim(5,10)\n",
    "plt.ylim(0,20)\n",
    "plt.title(\"Flux en eje x\")\n",
    "# plt.xlim(0,1)\n",
    "plt.show()"
   ]
  },
  {
   "cell_type": "markdown",
   "id": "555d9d74",
   "metadata": {},
   "source": [
    "Ocupamos el último vector en t=20, se debe ubicar el punto en x=9:"
   ]
  },
  {
   "cell_type": "code",
   "execution_count": null,
   "id": "b805c222",
   "metadata": {},
   "outputs": [],
   "source": [
    "ind=round(200*9/25)\n",
    "print(ind)"
   ]
  },
  {
   "cell_type": "code",
   "execution_count": null,
   "id": "c32581e0",
   "metadata": {},
   "outputs": [],
   "source": [
    "c_20=C_num[-1]\n",
    "flux_t20=(c_20[ind+1]-c_20[ind-1])/(2*dx)*(-D_h)+c_20[ind]*v\n",
    "print(flux_t20)"
   ]
  },
  {
   "cell_type": "markdown",
   "id": "41835fff",
   "metadata": {},
   "source": [
    "#### P7) Encuentre año en que el flux de contaminante organico hacia el acuifero sea maximo (x=9)"
   ]
  },
  {
   "cell_type": "code",
   "execution_count": null,
   "id": "13c8e8f8",
   "metadata": {},
   "outputs": [],
   "source": [
    "# Tiempo inicial\n",
    "t_0=0\n",
    "\n",
    "# Tiempo final\n",
    "t_f = 30\n",
    "\n",
    "# Grabe los resultados después de una fracción que estime conveniente. Por ejemplo, t = 3 s:\n",
    "write_interval= 1"
   ]
  },
  {
   "cell_type": "code",
   "execution_count": null,
   "id": "5d6a27c3",
   "metadata": {},
   "outputs": [],
   "source": [
    "## Algoritmo FTCS\n",
    "\n",
    "# Lista en que se acumulan los tiempos donde se graban los perfiles de concentración\n",
    "t_vec=[]\n",
    "\n",
    "# Lista en que se acumulan los perfiles de concentración para cada write_interval\n",
    "C_num=[]\n",
    "\n",
    "# Inicializar vector que contiene la concentración inicial \n",
    "C_inicial=np.ones(len(A))*0\n",
    "\n",
    "\n",
    "# Copie la temperatura T en otra variable, utilizando la función np.copy()\n",
    "C_old=np.copy(C_inicial)\n",
    "\n",
    "\n",
    "#Inicialización de tiempo inicial y final\n",
    "t=t_0\n",
    "t_max=t_f\n",
    "\n",
    "# Iteración de evolución\n",
    "while t<t_max:\n",
    "    \n",
    "    # Actualizar nodos interiores\n",
    "    C_new=C_old+(np.dot(A,C_old)+b)*dt\n",
    "        \n",
    "    # Actualizar tiempo\n",
    "    t+=dt\n",
    "        \n",
    "    # Actualizar condiciones de borde\n",
    "    C_new[0]=c_0*np.exp(-beta*t)\n",
    "    C_new[-1]=(4*C_new[-2]-C_new[-3])/3\n",
    "    \n",
    "        \n",
    "        \n",
    "    # Crear una copia de la nueva temperatura\n",
    "    C_old=np.copy(C_new)\n",
    "\n",
    "\n",
    "    # Definir un control de flujo para guardar el perfil de temperatura\n",
    "    # cada vez que se cumpla un intervalo de tiempo previamente definido\n",
    "    if (t%write_interval)<1.1*dt and t-dt>0:\n",
    "        # Guardamos el perfil de temperatura\n",
    "        C_num.append(C_new)\n",
    "        \n",
    "        # Guardamos el tiempo\n",
    "        t_vec.append(t)\n",
    "    \n"
   ]
  },
  {
   "cell_type": "code",
   "execution_count": null,
   "id": "d161926c",
   "metadata": {},
   "outputs": [],
   "source": [
    "fig, ax=plt.subplots(1,1,figsize=[5,4])\n",
    "n_con=len(C_num)\n",
    "cividis=cm.get_cmap(\"cividis\",n_con)\n",
    "colour=[cividis(i/n_con) for i in range(n_con)]\n",
    "\n",
    "for i in range(len(C_num)):\n",
    "    plt.plot(x,C_num[i],color=colour[i],label=\"t=%.0f y\" % t_vec[i])\n",
    "\n",
    "plt.xlabel(\"$x$ /m \", size=14)\n",
    "plt.ylabel(\"$mg $ $/L $ \", size=14)\n",
    "plt.grid()\n",
    "plt.legend()\n",
    "# plt.xlim(0,1)\n",
    "plt.show()"
   ]
  },
  {
   "cell_type": "code",
   "execution_count": null,
   "id": "ec7bed72",
   "metadata": {},
   "outputs": [],
   "source": [
    "fluxmax=0\n",
    "t_max=0\n",
    "cont=0\n",
    "for i in range(0,len(C_num)):\n",
    "    C_i=C_num[i]\n",
    "    flux=(-D_h*(C_i[ind+1]-C_i[ind-1])/(2*dx)+v*C_i[ind])*1000\n",
    "    if flux>fluxmax:\n",
    "        fluxmax=flux\n",
    "        t_max=t_vec[i]\n",
    "        \n",
    "print(fluxmax,t_max)"
   ]
  },
  {
   "cell_type": "markdown",
   "id": "0bddb0a3",
   "metadata": {},
   "source": [
    "El flux másico máximo es de 10.41 mg/($m^2$ $año$), que ocurre a los 25 años."
   ]
  }
 ],
 "metadata": {
  "kernelspec": {
   "display_name": "Python 3 (ipykernel)",
   "language": "python",
   "name": "python3"
  },
  "language_info": {
   "codemirror_mode": {
    "name": "ipython",
    "version": 3
   },
   "file_extension": ".py",
   "mimetype": "text/x-python",
   "name": "python",
   "nbconvert_exporter": "python",
   "pygments_lexer": "ipython3",
   "version": "3.9.12"
  }
 },
 "nbformat": 4,
 "nbformat_minor": 5
}
