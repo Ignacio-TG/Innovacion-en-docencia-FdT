{
 "cells": [
  {
   "cell_type": "markdown",
   "id": "bc7402c1",
   "metadata": {},
   "source": [
    "###  Trabajo práctico Módulo 5\n",
    "\n",
    "## Modelamiento de difusión de oxígeno en una piscina \n",
    "\n",
    "#### MOOC: Transferencia de Calor y Masa Computacional"
   ]
  },
  {
   "cell_type": "markdown",
   "id": "355a03e2",
   "metadata": {},
   "source": [
    "Imagine que usted trabaja en el Centro de Investigación en Acuicultura Sostenible, donde se desarrollan tecnologías para mejorar la crianza de alevines. Su tarea consiste en diseñar un sistema que optimice la concentración de oxígeno en un tanque cilíndrico utilizado para la cría de alevines de peces. En este tanque, burbujas de aire enriquecidas con oxígeno son inyectadas a través del centro para asegurar un ambiente saludable para el crecimiento de los peces.\n",
    "\n",
    "Descripción del Sistema\n",
    "El tanque cilíndrico tiene un radio de 2.5 metros y una altura de 2 metros. Las burbujas de aire son inyectadas desde la base del tanque hacia el centro, en un área con un radio de 0.5 metros, promoviendo la disolución del oxígeno en el agua y asegurando que la concentración se mantenga dentro de un rango óptimo para los alevines. Se requiere que la concentración de oxígeno no baje de 6 mg/L, ya que concentraciones inferiores pueden afectar negativamente el crecimiento y la salud de los alevines."
   ]
  },
  {
   "cell_type": "markdown",
   "id": "55030ee0",
   "metadata": {},
   "source": [
    "### Ecuación gobernante y condiciones de borde\n",
    "\n",
    "La ecuación de conservación de oxígeno en el tanque en estado estacionario es\n",
    "\n",
    "$$ v_z\\frac{\\partial c}{\\partial z} = D[\\frac{1}{r}\\frac{\\partial }{\\partial r}(r\\frac{\\partial c}{\\partial r}) +\\frac{\\partial^2 c}{\\partial z}] - kc$$\n",
    "\n",
    "\n",
    "Las condiciones de borde asociadas a las paredes exterior e inferior:\n",
    "\n",
    "Fondo del tanque con burbujas\n",
    "$$ CB1: \\ C(r\\leq R_1,z=0)= C_0$$\n",
    "\n",
    "\n",
    "Fondo del tanque sin burbujas\n",
    "$$ CB2: \\ \\frac{\\partial}{\\partial z}  C(r\\geq R_1,z=0)= 0$$\n",
    "\n",
    "Pared exterior sin flux\n",
    "$$ CB3: \\frac{\\partial}{\\partial r}  C(r= R_2,z)= 0$$\n",
    "\n",
    "Ecuación solubilidad del oxígeno en el agua\n",
    "$$ CB4: \\ C(r,z=H)= k\\cdot C_0$$\n",
    "\n",
    "Centro del tanque\n",
    "$$ CB5: \\ \\frac{\\partial}{\\partial z}  C(r=0,z)= 0$$\n",
    "\n"
   ]
  },
  {
   "cell_type": "markdown",
   "id": "0559f17d",
   "metadata": {},
   "source": [
    "#### 1. Importar módulos"
   ]
  },
  {
   "cell_type": "code",
   "execution_count": 1,
   "id": "24cbd05f",
   "metadata": {},
   "outputs": [],
   "source": [
    "# Visualización de datos y gráficos\n",
    "import matplotlib.pyplot as plt \n",
    "\n",
    "# Computación numérica\n",
    "import numpy as np"
   ]
  },
  {
   "cell_type": "markdown",
   "id": "34e781d1",
   "metadata": {},
   "source": [
    "#### 2. Inicializar parámetros geométricos y físicos constantes del problema\n",
    "* Defina las propiedades termofísicas del problema\n"
   ]
  },
  {
   "cell_type": "code",
   "execution_count": 2,
   "id": "c82e34f3",
   "metadata": {},
   "outputs": [
    {
     "name": "stdout",
     "output_type": "stream",
     "text": [
      "Peso molecular del oxígeno (MW): 32 g/mol\n",
      "Concentración inicial de oxígeno (ca_0): 250.0 mmol/m³\n",
      "Concentración de oxígeno en la interfase piscina-aire (c_sup): 250.0 mmol/m³\n",
      "Velocidad de consumo de O2 en el agua (k): 2e-09\n",
      "Constante de solubilidad de oxígeno en el agua (k_con): 5e-15\n",
      "Difusividad del oxígeno en el agua (D): 2.1e-09 m²/s\n",
      "Radio 1 de la piscina en x (R1): 0.5 m\n",
      "Radio 2 de la piscina en y (R2): 2.5 m\n",
      "Profundidad de la piscina (lz): 2 m\n",
      "Flujo (flux): 0.5\n",
      "Velocidad de las burbujas (v_z1): 1e-11 m/s\n",
      "Velocidad de las burbujas ajustada (v_z2): -4.1666666666666664e-13 m/s\n",
      "Velocidad de las burbujas (v_z): 1e-11 m/s\n"
     ]
    }
   ],
   "source": [
    "# Concentración máxima de oxígeno en el centro de la barra dispensadora / mol m^-3\n",
    "MW = 32 # g/mol\n",
    "\n",
    "# Cálculo de concentración en mol / m3 1 mg/L = 1g/m3\n",
    "ca_0 = 8 / MW * 1e3 # mmol/m3\n",
    "\n",
    "# Concentración de oxígeno en la interfase piscina-aire\n",
    "c_sup = ca_0\n",
    "\n",
    "# Velocidad de consumo de O2 en el agua\n",
    "k = 2e-9\n",
    "\n",
    "# Constante de solubilidad de oxígeno en el agua\n",
    "k_con = 5e-15\n",
    "\n",
    "# Difusividad del oxígeno en el agua / m^2 s^-1\n",
    "D = 2.10e-9\n",
    "\n",
    "# Radio 1 de la piscina en x / m\n",
    "R1 = 0.5\n",
    "\n",
    "# Radio 2 de la piscina en y / m\n",
    "R2 = 2.5\n",
    "\n",
    "# Profundidad de la piscina / m\n",
    "lz = 2\n",
    "\n",
    "# Flux\n",
    "flux = 0.5\n",
    "\n",
    "# Velocidad de las burbujas / m s^-1\n",
    "v_z1 = 1e-11\n",
    "\n",
    "v_z2 = -v_z1 / ((R2 / R1) ** 2 - 1)\n",
    "\n",
    "v_z = v_z1\n",
    "\n",
    "# Imprimir todas las cantidades calculadas\n",
    "print(f\"Peso molecular del oxígeno (MW): {MW} g/mol\")\n",
    "print(f\"Concentración inicial de oxígeno (ca_0): {ca_0} mmol/m³\")\n",
    "print(f\"Concentración de oxígeno en la interfase piscina-aire (c_sup): {c_sup} mmol/m³\")\n",
    "print(f\"Velocidad de consumo de O2 en el agua (k): {k}\")\n",
    "print(f\"Constante de solubilidad de oxígeno en el agua (k_con): {k_con}\")\n",
    "print(f\"Difusividad del oxígeno en el agua (D): {D} m²/s\")\n",
    "print(f\"Radio 1 de la piscina en x (R1): {R1} m\")\n",
    "print(f\"Radio 2 de la piscina en y (R2): {R2} m\")\n",
    "print(f\"Profundidad de la piscina (lz): {lz} m\")\n",
    "print(f\"Flujo (flux): {flux}\")\n",
    "print(f\"Velocidad de las burbujas (v_z1): {v_z1} m/s\")\n",
    "print(f\"Velocidad de las burbujas ajustada (v_z2): {v_z2} m/s\")\n",
    "print(f\"Velocidad de las burbujas (v_z): {v_z} m/s\")\n"
   ]
  },
  {
   "cell_type": "markdown",
   "id": "4b663d80",
   "metadata": {},
   "source": [
    "#### 3. Generar grilla 2-D\n",
    "Luego visualizar grilla 2-D utilizando la funcion `meshgrid` de numpy"
   ]
  },
  {
   "cell_type": "code",
   "execution_count": 3,
   "id": "a14cd8c8",
   "metadata": {},
   "outputs": [],
   "source": [
    "# Numero de elementos de la grilla en y\n",
    "Nz=51*1\n",
    "\n",
    "# Numero de elementos de la grilla en r\n",
    "Nr=51*1\n",
    "\n",
    "# Calcular el paso en espacio en la coordenada y\n",
    "dz=lz/(Nz-1)\n",
    "\n",
    "# Calcular el paso en espacio en la coordenada x\n",
    "dr=R2/(Nr-1)\n",
    "\n",
    "# Definimos vector con las coordenadas de cada punto en el espacio en y.\n",
    "z_grilla=np.linspace(0,lz,Nz)\n",
    "\n",
    "# Definimos vector con las coordenadas de cada punto en el espacio en x.\n",
    "r_grilla=np.linspace(0,R2,Nr)\n",
    "\n",
    "# Nodo donde está R1\n",
    "nr1=round(Nr/5)"
   ]
  },
  {
   "cell_type": "code",
   "execution_count": 4,
   "id": "b1c9aa62",
   "metadata": {
    "scrolled": false
   },
   "outputs": [
    {
     "data": {
      "text/plain": [
       "[<matplotlib.lines.Line2D at 0x1a3c4155730>,\n",
       " <matplotlib.lines.Line2D at 0x1a3c41556a0>,\n",
       " <matplotlib.lines.Line2D at 0x1a3c4155880>,\n",
       " <matplotlib.lines.Line2D at 0x1a3c41559a0>,\n",
       " <matplotlib.lines.Line2D at 0x1a3c4155ac0>,\n",
       " <matplotlib.lines.Line2D at 0x1a3c4155be0>,\n",
       " <matplotlib.lines.Line2D at 0x1a3c4155d00>,\n",
       " <matplotlib.lines.Line2D at 0x1a3c4155e20>,\n",
       " <matplotlib.lines.Line2D at 0x1a3c4155f40>,\n",
       " <matplotlib.lines.Line2D at 0x1a3c41650a0>,\n",
       " <matplotlib.lines.Line2D at 0x1a3c41651c0>,\n",
       " <matplotlib.lines.Line2D at 0x1a3c41652e0>,\n",
       " <matplotlib.lines.Line2D at 0x1a3c4165400>,\n",
       " <matplotlib.lines.Line2D at 0x1a3c4165520>,\n",
       " <matplotlib.lines.Line2D at 0x1a3c4165640>,\n",
       " <matplotlib.lines.Line2D at 0x1a3c4165760>,\n",
       " <matplotlib.lines.Line2D at 0x1a3c4165880>,\n",
       " <matplotlib.lines.Line2D at 0x1a3c41659a0>,\n",
       " <matplotlib.lines.Line2D at 0x1a3c4165ac0>,\n",
       " <matplotlib.lines.Line2D at 0x1a3c4165be0>,\n",
       " <matplotlib.lines.Line2D at 0x1a3c4165d00>,\n",
       " <matplotlib.lines.Line2D at 0x1a3c4165e20>,\n",
       " <matplotlib.lines.Line2D at 0x1a3c4165f40>,\n",
       " <matplotlib.lines.Line2D at 0x1a3c416b0a0>,\n",
       " <matplotlib.lines.Line2D at 0x1a3c416b1c0>,\n",
       " <matplotlib.lines.Line2D at 0x1a3c416b2e0>,\n",
       " <matplotlib.lines.Line2D at 0x1a3c416b400>,\n",
       " <matplotlib.lines.Line2D at 0x1a3c416b520>,\n",
       " <matplotlib.lines.Line2D at 0x1a3c416b640>,\n",
       " <matplotlib.lines.Line2D at 0x1a3c416b760>,\n",
       " <matplotlib.lines.Line2D at 0x1a3c416b880>,\n",
       " <matplotlib.lines.Line2D at 0x1a3c416b9a0>,\n",
       " <matplotlib.lines.Line2D at 0x1a3c416bac0>,\n",
       " <matplotlib.lines.Line2D at 0x1a3c416bbe0>,\n",
       " <matplotlib.lines.Line2D at 0x1a3c416bd00>,\n",
       " <matplotlib.lines.Line2D at 0x1a3c416be20>,\n",
       " <matplotlib.lines.Line2D at 0x1a3c416bf40>,\n",
       " <matplotlib.lines.Line2D at 0x1a3c41720a0>,\n",
       " <matplotlib.lines.Line2D at 0x1a3c41721c0>,\n",
       " <matplotlib.lines.Line2D at 0x1a3c41722e0>,\n",
       " <matplotlib.lines.Line2D at 0x1a3c4172400>,\n",
       " <matplotlib.lines.Line2D at 0x1a3c4172520>,\n",
       " <matplotlib.lines.Line2D at 0x1a3c4172640>,\n",
       " <matplotlib.lines.Line2D at 0x1a3c4172760>,\n",
       " <matplotlib.lines.Line2D at 0x1a3c4172880>,\n",
       " <matplotlib.lines.Line2D at 0x1a3c41729a0>,\n",
       " <matplotlib.lines.Line2D at 0x1a3c4172ac0>,\n",
       " <matplotlib.lines.Line2D at 0x1a3c4172be0>,\n",
       " <matplotlib.lines.Line2D at 0x1a3c4172d00>,\n",
       " <matplotlib.lines.Line2D at 0x1a3c4172e20>,\n",
       " <matplotlib.lines.Line2D at 0x1a3c4172f40>]"
      ]
     },
     "execution_count": 4,
     "metadata": {},
     "output_type": "execute_result"
    },
    {
     "data": {
      "image/png": "[encoded data removed]",
      "text/plain": [
       "<Figure size 720x720 with 1 Axes>"
      ]
     },
     "metadata": {
      "needs_background": "light"
     },
     "output_type": "display_data"
    }
   ],
   "source": [
    "# Visualizar grilla 2-D\n",
    "fig, ax=plt.subplots(figsize=(10,10))\n",
    "R,Z=np.meshgrid(r_grilla,z_grilla)\n",
    "ax.plot(R,Z,\"k.\")"
   ]
  },
  {
   "cell_type": "markdown",
   "id": "eddbf356",
   "metadata": {},
   "source": [
    "#### 4. Discretizar el problema de difusión 2-D en puntos interiores del dominio y en bordes\n",
    "* Diferencias finitas centrales de segundo orden en el espacio para las derivadas espaciales\n",
    "* Agrupar los coeficientes de cada concentración formando un esténcil de cinco puntos para aplicar método SOR\n",
    "* Diferencias finitas hacia atrás o adelante de segundo orden en el espacio para las condiciones de borde que consideren un flux\n",
    "* Utilizar una condicion de borde de Dirichlet para paredes que cosideran valor de concentración constante"
   ]
  },
  {
   "cell_type": "markdown",
   "id": "2291033e",
   "metadata": {},
   "source": [
    "#### 5. Definir parametros de método numérico SOR\n",
    "* Definir coeficiente SOR para los nodos interiores en el dominio 2-D\n",
    "* Definir parámetro de sobre-relajación y tolerancia"
   ]
  },
  {
   "cell_type": "code",
   "execution_count": 5,
   "id": "d5d20d41",
   "metadata": {},
   "outputs": [],
   "source": [
    "# Coeficiente correspondiente a nodo vecino derecho\n",
    "#a=D/(2*dr*r)+D/dr**2\n",
    "\n",
    "# Coeficiente correspondiente a nodo vecino izquierdo\n",
    "#b=-D/(2*dr*r)+D/dr**2\n",
    "\n",
    "                        \n",
    "# Coeficiente correspondiente a nodo vecino superior\n",
    "c= -D/dz**2\n",
    "\n",
    "# Coeficiente correspondiente a nodo vecino inferior\n",
    "d= -v_z1/(2*dz)-D/dz**2\n",
    "\n",
    "# Coeficiente correspondiente a nodo central\n",
    "e= +2*D/dz**2 +2*D/dr**2 + v_z/dz + k\n",
    "                        \n",
    "\n",
    "# Coeficiente correspondiente a termino constante\n",
    "f=0"
   ]
  },
  {
   "cell_type": "code",
   "execution_count": 6,
   "id": "0f56390d",
   "metadata": {},
   "outputs": [
    {
     "name": "stdout",
     "output_type": "stream",
     "text": [
      "-1.3125000000000001e-06 -1.3126250000000002e-06 4.30725e-06\n"
     ]
    }
   ],
   "source": [
    "print(c,d,e)"
   ]
  },
  {
   "cell_type": "markdown",
   "id": "48473a08",
   "metadata": {},
   "source": [
    "#### 6. Inicializar arreglo con valores de solución y condiciones de borde\n",
    "* Iniciar arreglo para almacenar concentraión de Cloro\n",
    "* Evaluar y almacenar valores de concentración utilizando las condiciones de borde\n",
    "* Visualizar las condiciones de borde para chequear su correcta implementación"
   ]
  },
  {
   "cell_type": "code",
   "execution_count": 7,
   "id": "e35c641d",
   "metadata": {},
   "outputs": [],
   "source": [
    "# Inicializamos arreglo para almacenar los valores solución de la concentration de aroma\n",
    "ca=np.ones((Nr,Nz))*0\n",
    "\n",
    "# Aplicamos las condiciones de borde \n",
    "\n",
    "# CB1 Fondo con burbujas, para r<R1\n",
    "ca[1:nr1,0]=ca_0 \n",
    "\n",
    "# CB2 Fondo sin burbujas, para r>R1\n",
    "ca[nr1:-1,0]=(4*ca[nr1:-1,1]-ca[nr1:-1,2])/3\n",
    "\n",
    "# CB3 Pared exterior\n",
    "ca[-1,:]=(4*ca[-2,:]-ca[-3,:])/3\n",
    "\n",
    "# CB4 Superficie del tanque\n",
    "ca[:,-1]=(4*ca[:,-2]-ca[:,-3])/3\n",
    "\n",
    "# CB5 Centro de la piscina (lado izquierdo)\n",
    "ca[0,:]=(4*ca[1,:]-ca[2,:])/3\n",
    "           "
   ]
  },
  {
   "cell_type": "code",
   "execution_count": 8,
   "id": "e9da425d",
   "metadata": {},
   "outputs": [
    {
     "data": {
      "image/png": "[encoded data removed]",
      "text/plain": [
       "<Figure size 720x720 with 2 Axes>"
      ]
     },
     "metadata": {
      "needs_background": "light"
     },
     "output_type": "display_data"
    }
   ],
   "source": [
    "# Visualizar las condiciones de borde iniciales\n",
    "\n",
    "fig=plt.subplots(figsize=[10,10])\n",
    "plt.imshow(np.flipud(np.transpose(ca)),origin=\"upper\",extent=[0,R2,0,lz],cmap=\"plasma\")\n",
    "plt.colorbar(label=r\"$c_a(x,y)$ / mmol m${-3}$\")\n",
    "plt.xlabel(\"x m\")\n",
    "plt.ylabel(\"y m\")\n",
    "plt.show()"
   ]
  },
  {
   "cell_type": "markdown",
   "id": "a8edc862",
   "metadata": {},
   "source": [
    "#### 7. Implementar algoritmo de iteración SOR"
   ]
  },
  {
   "cell_type": "markdown",
   "id": "6fbf57a8",
   "metadata": {},
   "source": [
    "# SOR"
   ]
  },
  {
   "cell_type": "code",
   "execution_count": 9,
   "id": "f1336adc",
   "metadata": {},
   "outputs": [
    {
     "name": "stdout",
     "output_type": "stream",
     "text": [
      "Residuo: 1.641e-03 \n",
      "Residuo: 1.928e-04 \n",
      "Residuo: 1.177e-04 \n",
      "Residuo: 8.386e-05 \n",
      "Residuo: 6.399e-05 \n",
      "Residuo: 5.090e-05 \n",
      "Residuo: 4.164e-05 \n",
      "Residuo: 3.475e-05 \n",
      "Residuo: 2.942e-05 \n",
      "Residuo: 2.516e-05 \n",
      "Residuo: 2.168e-05 \n",
      "Residuo: 1.877e-05 \n",
      "Residuo: 1.630e-05 \n",
      "Residuo: 1.420e-05 \n",
      "Residuo: 1.239e-05 \n",
      "Residuo: 1.082e-05 \n",
      "Residuo: 9.459e-06 \n",
      "Residuo: 8.273e-06 \n",
      "Residuo: 7.238e-06 \n",
      "Residuo: 6.335e-06 \n",
      "Residuo: 5.545e-06 \n",
      "Residuo: 4.855e-06 \n",
      "Residuo: 4.250e-06 \n",
      "Residuo: 3.721e-06 \n",
      "Residuo: 3.259e-06 \n",
      "Residuo: 2.853e-06 \n",
      "Residuo: 2.498e-06 \n",
      "Residuo: 2.188e-06 \n",
      "Residuo: 1.916e-06 \n",
      "Residuo: 1.678e-06 \n",
      "Residuo: 1.469e-06 \n",
      "Residuo: 1.286e-06 \n",
      "Residuo: 1.126e-06 \n"
     ]
    }
   ],
   "source": [
    "omega = 1.2\n",
    "\n",
    "# Criterio de convergencia\n",
    "resid_crit = 1e-6\n",
    "\n",
    "# Valor arbitrario al comienzo\n",
    "resid_ave = 1\n",
    "\n",
    "# Número de iteraciones\n",
    "count = 0\n",
    "\n",
    "\n",
    "while resid_ave > resid_crit:\n",
    "   \n",
    "    # Residuo viejo\n",
    "    resid_old = resid_ave\n",
    "    \n",
    "    # Setear residuo promedio en 0 para sumar más adelante\n",
    "    resid_ave = 0\n",
    "    \n",
    "    # Checker boarding\n",
    "    cnt_points = 0\n",
    "    \n",
    "    \n",
    "    # Loop sobre los puntos internos\n",
    "    for i in range(0,Nr):\n",
    "        for j in range(0,Nz):\n",
    "            \n",
    "            # Checker-boarding para garantizar convergencia\n",
    "            if ((i+j)%2)==count%2:\n",
    "                   \n",
    "                #print(\"i =%.3f, j= %.3f\" % (i,j))\n",
    "                \n",
    "                # Residuo\n",
    "                \n",
    "                if (i>0) & (i<Nr-1) & (j>0) & (j<Nz-1):\n",
    "                    \n",
    "                    # caso donde r<R1\n",
    "                    if i<=nr1:\n",
    "                    \n",
    "                        a= -D/(2*dr*i*dr) - D/dr**2\n",
    "                    \n",
    "                        b= + D/(2*dr*i*dr) - D/dr**2\n",
    "                        \n",
    "                        # Coeficiente correspondiente a nodo vecino superior\n",
    "                        c= -D/dz**2\n",
    "\n",
    "                        # Coeficiente correspondiente a nodo vecino inferior\n",
    "                        d= -v_z1/(2*dz)-D/dz**2\n",
    "\n",
    "                        # Coeficiente correspondiente a nodo central\n",
    "                        e= +2*D/dz**2 +2*D/dr**2 + v_z1/dz + k\n",
    "                    # caso donde R1<r<R2\n",
    "                    else:\n",
    "                        a = -D/(2*dr*i*dr) - D/dr**2\n",
    "                    \n",
    "                        b = + D/(2*dr*i*dr) - D/dr**2\n",
    "                        \n",
    "                        # Coeficiente correspondiente a nodo vecino superior\n",
    "                        c = -D/dz**2\n",
    "\n",
    "                        # Coeficiente correspondiente a nodo vecino inferior\n",
    "                        d = -v_z1/(2*dz)-D/dz**2\n",
    "\n",
    "                        # Coeficiente correspondiente a nodo central\n",
    "                        e = +2*D/dz**2 +2*D/dr**2 + v_z2/dz + k\n",
    "                        \n",
    "\n",
    "                    residual = a * ca[i+1,j] + b * ca[i-1,j] + c * ca[i,j+1]+ d * ca[i,j-1] + e * ca[i,j] - f\n",
    "                    \n",
    "            \n",
    "                    # Actualizar el valor de T\n",
    "                    if (ca[i,j] -omega*residual/e) >=0:\n",
    "                        ca[i,j] += -omega*residual/e\n",
    "            \n",
    "                    \n",
    "\n",
    "                    # Actualizar el promedio del residuo como la suma de residuos\n",
    "                    resid_ave += abs(residual)\n",
    "        \n",
    "                        \n",
    "                    # print(residual)\n",
    "                cnt_points += 1\n",
    "    \n",
    "    # Actualización dinámica de condiciones de borde después de que la matriz solución completa\n",
    "    # se actualizó (un ciclo de checkerboarding completo)\n",
    "    if count%2==0:\n",
    "        # CB1 Pared inferior con burbujas\n",
    "        ca[1:nr1,0]=ca_0\n",
    "\n",
    "        # CB2 Pared inferior sin burbujas\n",
    "        ca[nr1:-1,0]=(4*ca[nr1:-1,1]-ca[nr1:-1,2])/3\n",
    "\n",
    "        # CB3 Pared exterior\n",
    "        # ca[:,-1]=(4*ca[:,-2]-ca[:,-3])/3\n",
    "        ca[-1,:]=(4*ca[-2,:]-ca[-3,:])/3\n",
    "\n",
    "        # CB4 Superficie del tanque\n",
    "        ca[:,-1]=(4*ca[:,-2]-ca[:,-3])/3\n",
    "\n",
    "        # CB5 Centro de la piscina\n",
    "        ca[0,:]=(4*ca[1,:]-ca[2,:])/3\n",
    "\n",
    "\n",
    "\n",
    "    resid = resid_ave/cnt_points\n",
    "        \n",
    "    # Imprimir cada 200 iteraciones\n",
    "    if count%200==0:\n",
    "        print(\"Residuo: %.3e \"% resid_ave)\n",
    "        # print(\"Delta res: %.3e\" % (resid_ave - resid_old))\n",
    "    \n",
    "    # Contar iteraciones\n",
    "    count = count + 1"
   ]
  },
  {
   "cell_type": "markdown",
   "id": "0638d7c8",
   "metadata": {},
   "source": [
    "#### 8. Visualizar solución del perfil de concentración 2-D "
   ]
  },
  {
   "cell_type": "code",
   "execution_count": 10,
   "id": "972eed1f",
   "metadata": {
    "scrolled": false
   },
   "outputs": [
    {
     "data": {
      "image/png": "[encoded data removed]",
      "text/plain": [
       "<Figure size 1080x1080 with 2 Axes>"
      ]
     },
     "metadata": {
      "needs_background": "light"
     },
     "output_type": "display_data"
    }
   ],
   "source": [
    "# Visualizamos la solución para la concentración de cloro en 2-D\n",
    "\n",
    "fig=plt.subplots(figsize=[15,15])\n",
    "plt.imshow(np.flipud(np.transpose(ca)),origin=\"upper\",extent=[0,R2,0,lz],cmap=\"plasma\")\n",
    "plt.colorbar(label=r\"$c_a(x,y)$ / mmol m${-3}$\")\n",
    "plt.xlabel(\"r (m)\")\n",
    "plt.ylabel(\"z (m)\")\n",
    "plt.show()\n"
   ]
  },
  {
   "cell_type": "markdown",
   "id": "16ec9208",
   "metadata": {},
   "source": [
    "#### 9. Calcular zona muerta"
   ]
  },
  {
   "cell_type": "code",
   "execution_count": 11,
   "id": "ebe01bdb",
   "metadata": {},
   "outputs": [
    {
     "name": "stdout",
     "output_type": "stream",
     "text": [
      "31.25\n"
     ]
    }
   ],
   "source": [
    "c_lim= 1 / MW *1e3 # mmol/m3\n",
    "print(c_lim)\n",
    "C_zm=np.ones((Nr,Nz))*0"
   ]
  },
  {
   "cell_type": "code",
   "execution_count": 12,
   "id": "de4c6176",
   "metadata": {},
   "outputs": [],
   "source": [
    "for i in range(Nr):\n",
    "    for j in range(Nz):\n",
    "        if ca[i,j]>=c_lim:\n",
    "            C_zm[i,j]=1\n",
    "        "
   ]
  },
  {
   "cell_type": "code",
   "execution_count": 13,
   "id": "6f158b83",
   "metadata": {},
   "outputs": [
    {
     "data": {
      "image/png": "[encoded data removed]",
      "text/plain": [
       "<Figure size 1080x1080 with 1 Axes>"
      ]
     },
     "metadata": {
      "needs_background": "light"
     },
     "output_type": "display_data"
    }
   ],
   "source": [
    "fig=plt.subplots(figsize=[15,15])\n",
    "plt.imshow(np.flipud(np.transpose(C_zm)),origin=\"upper\",extent=[0,R2,0,lz],cmap=\"plasma\")\n",
    "plt.xlabel(\"r (m)\")\n",
    "plt.ylabel(\"z (m)\")\n",
    "plt.show()\n"
   ]
  },
  {
   "cell_type": "markdown",
   "id": "60f47b13",
   "metadata": {},
   "source": [
    "La zona muerta se encuentra en azul."
   ]
  }
 ],
 "metadata": {
  "@webio": {
   "lastCommId": null,
   "lastKernelId": null
  },
  "kernelspec": {
   "display_name": "Python 3 (ipykernel)",
   "language": "python",
   "name": "python3"
  },
  "language_info": {
   "codemirror_mode": {
    "name": "ipython",
    "version": 3
   },
   "file_extension": ".py",
   "mimetype": "text/x-python",
   "name": "python",
   "nbconvert_exporter": "python",
   "pygments_lexer": "ipython3",
   "version": "3.9.12"
  }
 },
 "nbformat": 4,
 "nbformat_minor": 5
}
